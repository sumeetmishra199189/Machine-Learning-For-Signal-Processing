{
  "nbformat": 4,
  "nbformat_minor": 0,
  "metadata": {
    "colab": {
      "name": "MLSP_Assignment1.ipynb",
      "provenance": [],
      "collapsed_sections": []
    },
    "kernelspec": {
      "name": "python3",
      "display_name": "Python 3"
    }
  },
  "cells": [
    {
      "cell_type": "code",
      "metadata": {
        "id": "kDlD7Ra8rDaX",
        "colab_type": "code",
        "outputId": "6f7835a5-d0f9-4b8d-cf0e-4e4ac86fdb15",
        "colab": {
          "base_uri": "https://localhost:8080/",
          "height": 122
        }
      },
      "source": [
        "from google.colab import drive\n",
        "drive.mount('/content/drive')"
      ],
      "execution_count": 1,
      "outputs": [
        {
          "output_type": "stream",
          "text": [
            "Go to this URL in a browser: https://accounts.google.com/o/oauth2/auth?client_id=947318989803-6bn6qk8qdgf4n4g3pfee6491hc0brc4i.apps.googleusercontent.com&redirect_uri=urn%3aietf%3awg%3aoauth%3a2.0%3aoob&response_type=code&scope=email%20https%3a%2f%2fwww.googleapis.com%2fauth%2fdocs.test%20https%3a%2f%2fwww.googleapis.com%2fauth%2fdrive%20https%3a%2f%2fwww.googleapis.com%2fauth%2fdrive.photos.readonly%20https%3a%2f%2fwww.googleapis.com%2fauth%2fpeopleapi.readonly\n",
            "\n",
            "Enter your authorization code:\n",
            "··········\n",
            "Mounted at /content/drive\n"
          ],
          "name": "stdout"
        }
      ]
    },
    {
      "cell_type": "code",
      "metadata": {
        "id": "nD1XLBSIrNny",
        "colab_type": "code",
        "outputId": "29d7461f-3559-4f6c-9837-d3b4136f3ae2",
        "colab": {
          "base_uri": "https://localhost:8080/",
          "height": 51
        }
      },
      "source": [
        "%pwd\n",
        "%cd drive/My Drive/MLSP\n",
        "%pwd"
      ],
      "execution_count": 2,
      "outputs": [
        {
          "output_type": "stream",
          "text": [
            "/content/drive/My Drive/MLSP\n"
          ],
          "name": "stdout"
        },
        {
          "output_type": "execute_result",
          "data": {
            "text/plain": [
              "'/content/drive/My Drive/MLSP'"
            ]
          },
          "metadata": {
            "tags": []
          },
          "execution_count": 2
        }
      ]
    },
    {
      "cell_type": "code",
      "metadata": {
        "id": "uxDOgQzApG7b",
        "colab_type": "code",
        "colab": {}
      },
      "source": [
        "import cv2 as cv\n",
        "import numpy as np\n",
        "import math\n",
        "from matplotlib import pyplot as plt"
      ],
      "execution_count": 0,
      "outputs": []
    },
    {
      "cell_type": "code",
      "metadata": {
        "id": "YpJ5HZegtLfM",
        "colab_type": "code",
        "outputId": "8f569922-b98b-42eb-bd94-34f66d1e9495",
        "colab": {
          "base_uri": "https://localhost:8080/",
          "height": 136
        }
      },
      "source": [
        "%ls -ltr"
      ],
      "execution_count": 4,
      "outputs": [
        {
          "output_type": "stream",
          "text": [
            "total 759\n",
            "-rw------- 1 root root 137588 Jan 27 06:18 flute.mat\n",
            "-rw------- 1 root root 257611 Jan 27 06:18 luddy1.jpeg\n",
            "-rw------- 1 root root  15595 Jan 27 06:18 X.mat\n",
            "-rw------- 1 root root 182753 Jan 27 06:18 luddy3.jpeg\n",
            "-rw------- 1 root root 161978 Jan 27 06:18 luddy2.jpeg\n",
            "-rw------- 1 root root  19989 Feb  3 00:55 MLSP_Assignment1.ipynb\n"
          ],
          "name": "stdout"
        }
      ]
    },
    {
      "cell_type": "markdown",
      "metadata": {
        "id": "XipagxhmcQiU",
        "colab_type": "text"
      },
      "source": [
        "##P2: Central Limit Theorem"
      ]
    },
    {
      "cell_type": "markdown",
      "metadata": {
        "id": "oY_4Oa5DcbOh",
        "colab_type": "text"
      },
      "source": [
        "###Loading Images"
      ]
    },
    {
      "cell_type": "code",
      "metadata": {
        "id": "gVpYs8tptIe8",
        "colab_type": "code",
        "colab": {}
      },
      "source": [
        "luddy1 = cv.imread('luddy1.jpeg')\n",
        "luddy2 = cv.imread('luddy2.jpeg')\n",
        "luddy3 = cv.imread('luddy3.jpeg')"
      ],
      "execution_count": 0,
      "outputs": []
    },
    {
      "cell_type": "code",
      "metadata": {
        "id": "qNpPG3r1tbld",
        "colab_type": "code",
        "outputId": "812edcb2-3621-466f-9729-f51726a0f8a0",
        "colab": {
          "base_uri": "https://localhost:8080/",
          "height": 34
        }
      },
      "source": [
        "luddy1.shape,luddy2.shape,luddy3.shape"
      ],
      "execution_count": 6,
      "outputs": [
        {
          "output_type": "execute_result",
          "data": {
            "text/plain": [
              "((768, 1024, 3), (768, 1024, 3), (768, 1024, 3))"
            ]
          },
          "metadata": {
            "tags": []
          },
          "execution_count": 6
        }
      ]
    },
    {
      "cell_type": "markdown",
      "metadata": {
        "id": "mlNx5N7scjBv",
        "colab_type": "text"
      },
      "source": [
        "###Flattening images matrix into a make row vector "
      ]
    },
    {
      "cell_type": "code",
      "metadata": {
        "id": "JFYhK3AY_ZA4",
        "colab_type": "code",
        "outputId": "56be35af-3c06-44cf-ab70-8dac584ee7d6",
        "colab": {
          "base_uri": "https://localhost:8080/",
          "height": 139
        }
      },
      "source": [
        "#luddy1=luddy1.reshape(1,2359296)\n",
        "luddy1=luddy1.flatten((luddy1.shape[0]))\n",
        "luddy2=luddy2.flatten((luddy2.shape[0]))\n",
        "luddy3=luddy3.flatten((luddy3.shape[0]))"
      ],
      "execution_count": 7,
      "outputs": [
        {
          "output_type": "stream",
          "text": [
            "/usr/local/lib/python3.6/dist-packages/ipykernel_launcher.py:1: DeprecationWarning: Non-string object detected for the array ordering. Please pass in 'C', 'F', 'A', or 'K' instead\n",
            "  \"\"\"Entry point for launching an IPython kernel.\n",
            "/usr/local/lib/python3.6/dist-packages/ipykernel_launcher.py:2: DeprecationWarning: Non-string object detected for the array ordering. Please pass in 'C', 'F', 'A', or 'K' instead\n",
            "  \n",
            "/usr/local/lib/python3.6/dist-packages/ipykernel_launcher.py:3: DeprecationWarning: Non-string object detected for the array ordering. Please pass in 'C', 'F', 'A', or 'K' instead\n",
            "  This is separate from the ipykernel package so we can avoid doing imports until\n"
          ],
          "name": "stderr"
        }
      ]
    },
    {
      "cell_type": "code",
      "metadata": {
        "id": "VRS6MS1O_g7d",
        "colab_type": "code",
        "outputId": "aa0e6dbf-476e-4526-bee3-d4ad63471a87",
        "colab": {
          "base_uri": "https://localhost:8080/",
          "height": 34
        }
      },
      "source": [
        "luddy1.shape,luddy2.shape,luddy3.shape"
      ],
      "execution_count": 8,
      "outputs": [
        {
          "output_type": "execute_result",
          "data": {
            "text/plain": [
              "((2359296,), (2359296,), (2359296,))"
            ]
          },
          "metadata": {
            "tags": []
          },
          "execution_count": 8
        }
      ]
    },
    {
      "cell_type": "markdown",
      "metadata": {
        "id": "YWQsKg6Bc1X2",
        "colab_type": "text"
      },
      "source": [
        "###Plotting histogram to check Gaussian distribution of the 3 images"
      ]
    },
    {
      "cell_type": "code",
      "metadata": {
        "id": "Y8-l2ln36NkI",
        "colab_type": "code",
        "outputId": "9b5da059-397b-4565-c30a-e5c03363acc6",
        "colab": {
          "base_uri": "https://localhost:8080/",
          "height": 350
        }
      },
      "source": [
        "plt.hist(luddy1)"
      ],
      "execution_count": 9,
      "outputs": [
        {
          "output_type": "execute_result",
          "data": {
            "text/plain": [
              "(array([114291., 423429., 638568., 492476.,  80831.,  39898.,  39124.,\n",
              "         55316., 208266., 267097.]),\n",
              " array([  0. ,  25.5,  51. ,  76.5, 102. , 127.5, 153. , 178.5, 204. ,\n",
              "        229.5, 255. ]),\n",
              " <a list of 10 Patch objects>)"
            ]
          },
          "metadata": {
            "tags": []
          },
          "execution_count": 9
        },
        {
          "output_type": "display_data",
          "data": {
            "image/png": "[encoded data removed]",
            "text/plain": [
              "<Figure size 432x288 with 1 Axes>"
            ]
          },
          "metadata": {
            "tags": []
          }
        }
      ]
    },
    {
      "cell_type": "code",
      "metadata": {
        "id": "f-_zLMI76TVV",
        "colab_type": "code",
        "outputId": "3749261e-e647-4b85-bdef-79451405013d",
        "colab": {
          "base_uri": "https://localhost:8080/",
          "height": 353
        }
      },
      "source": [
        "plt.hist(luddy2)"
      ],
      "execution_count": 10,
      "outputs": [
        {
          "output_type": "execute_result",
          "data": {
            "text/plain": [
              "(array([122051., 502716., 574905., 262681.,  85999., 119939., 155232.,\n",
              "        158480., 173305., 203988.]),\n",
              " array([  0. ,  25.5,  51. ,  76.5, 102. , 127.5, 153. , 178.5, 204. ,\n",
              "        229.5, 255. ]),\n",
              " <a list of 10 Patch objects>)"
            ]
          },
          "metadata": {
            "tags": []
          },
          "execution_count": 10
        },
        {
          "output_type": "display_data",
          "data": {
            "image/png": "[encoded data removed]",
            "text/plain": [
              "<Figure size 432x288 with 1 Axes>"
            ]
          },
          "metadata": {
            "tags": []
          }
        }
      ]
    },
    {
      "cell_type": "code",
      "metadata": {
        "id": "8N2mYM756TZF",
        "colab_type": "code",
        "outputId": "d5cb39eb-62e0-458a-e9e4-59b4b7d9c04e",
        "colab": {
          "base_uri": "https://localhost:8080/",
          "height": 350
        }
      },
      "source": [
        "plt.hist(luddy3)"
      ],
      "execution_count": 11,
      "outputs": [
        {
          "output_type": "execute_result",
          "data": {
            "text/plain": [
              "(array([ 76901., 521025., 658593., 303340.,  71499.,  72650.,  85390.,\n",
              "        108291., 192033., 269574.]),\n",
              " array([  0. ,  25.5,  51. ,  76.5, 102. , 127.5, 153. , 178.5, 204. ,\n",
              "        229.5, 255. ]),\n",
              " <a list of 10 Patch objects>)"
            ]
          },
          "metadata": {
            "tags": []
          },
          "execution_count": 11
        },
        {
          "output_type": "display_data",
          "data": {
            "image/png": "[encoded data removed]",
            "text/plain": [
              "<Figure size 432x288 with 1 Axes>"
            ]
          },
          "metadata": {
            "tags": []
          }
        }
      ]
    },
    {
      "cell_type": "markdown",
      "metadata": {
        "id": "GqOJdAKBdhy6",
        "colab_type": "text"
      },
      "source": [
        "###Calculating mean,variance and normalizing image vector"
      ]
    },
    {
      "cell_type": "code",
      "metadata": {
        "id": "CqkpPkF2zUs-",
        "colab_type": "code",
        "outputId": "091a6570-df61-43b1-c034-efac8566006e",
        "colab": {
          "base_uri": "https://localhost:8080/",
          "height": 34
        }
      },
      "source": [
        "np.mean(luddy1)"
      ],
      "execution_count": 12,
      "outputs": [
        {
          "output_type": "execute_result",
          "data": {
            "text/plain": [
              "103.35931735568576"
            ]
          },
          "metadata": {
            "tags": []
          },
          "execution_count": 12
        }
      ]
    },
    {
      "cell_type": "code",
      "metadata": {
        "id": "bZ60bKuvzVEW",
        "colab_type": "code",
        "outputId": "04511e14-b4bc-4fc5-f1fa-d0ad8d00298d",
        "colab": {
          "base_uri": "https://localhost:8080/",
          "height": 34
        }
      },
      "source": [
        "math.sqrt(np.var(luddy1))"
      ],
      "execution_count": 13,
      "outputs": [
        {
          "output_type": "execute_result",
          "data": {
            "text/plain": [
              "72.63540952924437"
            ]
          },
          "metadata": {
            "tags": []
          },
          "execution_count": 13
        }
      ]
    },
    {
      "cell_type": "code",
      "metadata": {
        "id": "LkUPFJpFzU_h",
        "colab_type": "code",
        "outputId": "970018ae-93a6-4506-8926-e9a017d3b7d9",
        "colab": {
          "base_uri": "https://localhost:8080/",
          "height": 34
        }
      },
      "source": [
        "math.sqrt(np.mean(abs(luddy1 - luddy1.mean())**2)) "
      ],
      "execution_count": 14,
      "outputs": [
        {
          "output_type": "execute_result",
          "data": {
            "text/plain": [
              "72.63540952924437"
            ]
          },
          "metadata": {
            "tags": []
          },
          "execution_count": 14
        }
      ]
    },
    {
      "cell_type": "code",
      "metadata": {
        "id": "PHH_pvnlW6Hr",
        "colab_type": "code",
        "colab": {}
      },
      "source": [
        "l1=(luddy1-np.mean(luddy1))/math.sqrt(np.var(luddy1))\n",
        "l2=(luddy2-np.mean(luddy2))/math.sqrt(np.var(luddy2))\n",
        "l3=(luddy3-np.mean(luddy3))/math.sqrt(np.var(luddy3))"
      ],
      "execution_count": 0,
      "outputs": []
    },
    {
      "cell_type": "code",
      "metadata": {
        "id": "FKdWiOmAXpcO",
        "colab_type": "code",
        "outputId": "cf9f2616-8c40-4ca8-ed0e-fb6e57de6e25",
        "colab": {
          "base_uri": "https://localhost:8080/",
          "height": 34
        }
      },
      "source": [
        "l1.shape,l2.shape,l3.shape"
      ],
      "execution_count": 16,
      "outputs": [
        {
          "output_type": "execute_result",
          "data": {
            "text/plain": [
              "((2359296,), (2359296,), (2359296,))"
            ]
          },
          "metadata": {
            "tags": []
          },
          "execution_count": 16
        }
      ]
    },
    {
      "cell_type": "markdown",
      "metadata": {
        "id": "omLMYmcte5BZ",
        "colab_type": "text"
      },
      "source": [
        "### Plotting histogram on the normalized image vectors"
      ]
    },
    {
      "cell_type": "code",
      "metadata": {
        "id": "yI7nRroQjcL4",
        "colab_type": "code",
        "outputId": "08fc1f97-35a6-4756-c596-3416f2f0361d",
        "colab": {
          "base_uri": "https://localhost:8080/",
          "height": 367
        }
      },
      "source": [
        "plt.hist(l1)"
      ],
      "execution_count": 17,
      "outputs": [
        {
          "output_type": "execute_result",
          "data": {
            "text/plain": [
              "(array([114291., 449208., 612789., 502342.,  70965.,  41335.,  37687.,\n",
              "         55316., 208266., 267097.]),\n",
              " array([-1.42298802, -1.07191958, -0.72085113, -0.36978269, -0.01871425,\n",
              "         0.33235419,  0.68342263,  1.03449107,  1.38555951,  1.73662795,\n",
              "         2.0876964 ]),\n",
              " <a list of 10 Patch objects>)"
            ]
          },
          "metadata": {
            "tags": []
          },
          "execution_count": 17
        },
        {
          "output_type": "display_data",
          "data": {
            "image/png": "[encoded data removed]",
            "text/plain": [
              "<Figure size 432x288 with 1 Axes>"
            ]
          },
          "metadata": {
            "tags": []
          }
        }
      ]
    },
    {
      "cell_type": "code",
      "metadata": {
        "id": "xVAVTZSujcXw",
        "colab_type": "code",
        "outputId": "b0b3f734-1993-4129-b06a-dbf3d860e392",
        "colab": {
          "base_uri": "https://localhost:8080/",
          "height": 370
        }
      },
      "source": [
        "plt.hist(l2)"
      ],
      "execution_count": 18,
      "outputs": [
        {
          "output_type": "execute_result",
          "data": {
            "text/plain": [
              "(array([122051., 502716., 574905., 266187.,  82493., 119939., 155232.,\n",
              "        158480., 173305., 203988.]),\n",
              " array([-1.45632455, -1.10655207, -0.75677959, -0.40700711, -0.05723463,\n",
              "         0.29253785,  0.64231034,  0.99208282,  1.3418553 ,  1.69162778,\n",
              "         2.04140026]),\n",
              " <a list of 10 Patch objects>)"
            ]
          },
          "metadata": {
            "tags": []
          },
          "execution_count": 18
        },
        {
          "output_type": "display_data",
          "data": {
            "image/png": "[encoded data removed]",
            "text/plain": [
              "<Figure size 432x288 with 1 Axes>"
            ]
          },
          "metadata": {
            "tags": []
          }
        }
      ]
    },
    {
      "cell_type": "code",
      "metadata": {
        "id": "jzAUGYANjcj0",
        "colab_type": "code",
        "outputId": "d0e0943a-2093-494c-c50b-f93156d6c67e",
        "colab": {
          "base_uri": "https://localhost:8080/",
          "height": 367
        }
      },
      "source": [
        "plt.hist(l3)"
      ],
      "execution_count": 19,
      "outputs": [
        {
          "output_type": "execute_result",
          "data": {
            "text/plain": [
              "(array([ 76901., 521025., 658593., 306234.,  68605.,  75652.,  82388.,\n",
              "        114838., 185486., 269574.]),\n",
              " array([-1.42299212, -1.08113027, -0.73926841, -0.39740655, -0.05554469,\n",
              "         0.28631716,  0.62817902,  0.97004088,  1.31190274,  1.65376459,\n",
              "         1.99562645]),\n",
              " <a list of 10 Patch objects>)"
            ]
          },
          "metadata": {
            "tags": []
          },
          "execution_count": 19
        },
        {
          "output_type": "display_data",
          "data": {
            "image/png": "[encoded data removed]",
            "text/plain": [
              "<Figure size 432x288 with 1 Axes>"
            ]
          },
          "metadata": {
            "tags": []
          }
        }
      ]
    },
    {
      "cell_type": "code",
      "metadata": {
        "id": "7ucl-XpzXqK0",
        "colab_type": "code",
        "outputId": "741a0514-d7fe-4f76-c3ec-4b5b00bef1be",
        "colab": {
          "base_uri": "https://localhost:8080/",
          "height": 51
        }
      },
      "source": [
        "pow(l1,4)-3"
      ],
      "execution_count": 20,
      "outputs": [
        {
          "output_type": "execute_result",
          "data": {
            "text/plain": [
              "array([ 0.98735193, 15.99631512, 13.16356915, ..., -2.88433492,\n",
              "       -2.860894  , -2.75003258])"
            ]
          },
          "metadata": {
            "tags": []
          },
          "execution_count": 20
        }
      ]
    },
    {
      "cell_type": "markdown",
      "metadata": {
        "id": "NY64P2-Df_dS",
        "colab_type": "text"
      },
      "source": [
        "###Calculating Kurtosis for the 3 image vectors"
      ]
    },
    {
      "cell_type": "code",
      "metadata": {
        "id": "2LUXhLEBbeKf",
        "colab_type": "code",
        "colab": {}
      },
      "source": [
        "def exp(array,n):\n",
        "  sum=0\n",
        "  for i in range(n):\n",
        "    sum+=array[i]/n\n",
        "  return sum  "
      ],
      "execution_count": 0,
      "outputs": []
    },
    {
      "cell_type": "code",
      "metadata": {
        "id": "ucBa9iYMb2tH",
        "colab_type": "code",
        "outputId": "ea08773f-cc64-4aee-be1d-d3e1a580a8a4",
        "colab": {
          "base_uri": "https://localhost:8080/",
          "height": 34
        }
      },
      "source": [
        "print('Kurtosis value for image1:',exp(pow(l1,4),2359296)-3)"
      ],
      "execution_count": 22,
      "outputs": [
        {
          "output_type": "stream",
          "text": [
            "Kurtosis value for image1: -0.5591356613464091\n"
          ],
          "name": "stdout"
        }
      ]
    },
    {
      "cell_type": "code",
      "metadata": {
        "id": "DwqXUUezcVw5",
        "colab_type": "code",
        "outputId": "b7305d68-0981-4258-81bc-42e03ec4ca2e",
        "colab": {
          "base_uri": "https://localhost:8080/",
          "height": 34
        }
      },
      "source": [
        "print('Kurtosis value for image1:',exp(pow(l2,4),2359296)-3)"
      ],
      "execution_count": 23,
      "outputs": [
        {
          "output_type": "stream",
          "text": [
            "Kurtosis value for image1: -0.9185331246187158\n"
          ],
          "name": "stdout"
        }
      ]
    },
    {
      "cell_type": "code",
      "metadata": {
        "id": "ge2fZvM_ccI8",
        "colab_type": "code",
        "outputId": "aeeb99ec-b19a-424c-e8da-9389b44651a1",
        "colab": {
          "base_uri": "https://localhost:8080/",
          "height": 34
        }
      },
      "source": [
        "print('Kurtosis value for image1:',exp(pow(l3,4),2359296)-3)"
      ],
      "execution_count": 24,
      "outputs": [
        {
          "output_type": "stream",
          "text": [
            "Kurtosis value for image1: -0.8409530035621664\n"
          ],
          "name": "stdout"
        }
      ]
    },
    {
      "cell_type": "markdown",
      "metadata": {
        "id": "-BOu0YBFgptU",
        "colab_type": "text"
      },
      "source": [
        "From the above 3 histograms(normalized), we can say that the 2nd image is not a good image as it looks less Gaussian as no good peak. So, it is not the sharpest image. Further looking at the Kurtosis value, tells us that the image 1 is the sharpest among all the other images as it's Kurtosis value is higher than the other 2.  "
      ]
    },
    {
      "cell_type": "markdown",
      "metadata": {
        "id": "RXTibMzhhxZ5",
        "colab_type": "text"
      },
      "source": [
        "##P3: Gradient Ascent for Eigendecomposition"
      ]
    },
    {
      "cell_type": "markdown",
      "metadata": {
        "id": "wKHt0HTVh8Be",
        "colab_type": "text"
      },
      "source": [
        "###Loading 1,000 randomly generated samples from a 2D Gaussian distribution collected in X.mat"
      ]
    },
    {
      "cell_type": "code",
      "metadata": {
        "id": "Wqm_z_I4okjY",
        "colab_type": "code",
        "colab": {}
      },
      "source": [
        "import scipy.io\n",
        "mat = scipy.io.loadmat('X.mat')"
      ],
      "execution_count": 0,
      "outputs": []
    },
    {
      "cell_type": "code",
      "metadata": {
        "id": "4w8GGNtwcfbG",
        "colab_type": "code",
        "outputId": "60fcf322-3185-4ed8-c053-88f02170ba21",
        "colab": {
          "base_uri": "https://localhost:8080/",
          "height": 136
        }
      },
      "source": [
        "mat"
      ],
      "execution_count": 26,
      "outputs": [
        {
          "output_type": "execute_result",
          "data": {
            "text/plain": [
              "{'X': array([[-0.80270267,  0.14826696, -0.73008652, ..., -0.38844022,\n",
              "         -0.04152344,  1.95023934],\n",
              "        [ 1.51626395,  1.03244736, -0.45484151, ...,  1.26987396,\n",
              "          0.45179885, -0.77529334]]),\n",
              " '__globals__': [],\n",
              " '__header__': b'MATLAB 5.0 MAT-file, Platform: MACI64, Created on: Sat Jan 21 08:41:08 2017',\n",
              " '__version__': '1.0'}"
            ]
          },
          "metadata": {
            "tags": []
          },
          "execution_count": 26
        }
      ]
    },
    {
      "cell_type": "code",
      "metadata": {
        "id": "YNDIxqmspzLD",
        "colab_type": "code",
        "outputId": "7aa0fb65-918d-4819-d8fd-92d96728ea98",
        "colab": {
          "base_uri": "https://localhost:8080/",
          "height": 34
        }
      },
      "source": [
        "mat_f=mat['X']\n",
        "mat_f.shape"
      ],
      "execution_count": 27,
      "outputs": [
        {
          "output_type": "execute_result",
          "data": {
            "text/plain": [
              "(2, 1000)"
            ]
          },
          "metadata": {
            "tags": []
          },
          "execution_count": 27
        }
      ]
    },
    {
      "cell_type": "markdown",
      "metadata": {
        "id": "RiIuWB-8iSQs",
        "colab_type": "text"
      },
      "source": [
        "### Scatter plot of input matrix"
      ]
    },
    {
      "cell_type": "code",
      "metadata": {
        "id": "g6Y-dVL-o-Sd",
        "colab_type": "code",
        "outputId": "8fc73615-734d-4a64-bf5c-17d163fd9f25",
        "colab": {
          "base_uri": "https://localhost:8080/",
          "height": 282
        }
      },
      "source": [
        "plt.scatter(mat_f[0,:],mat_f[1,:])"
      ],
      "execution_count": 28,
      "outputs": [
        {
          "output_type": "execute_result",
          "data": {
            "text/plain": [
              "<matplotlib.collections.PathCollection at 0x7f4173c33eb8>"
            ]
          },
          "metadata": {
            "tags": []
          },
          "execution_count": 28
        },
        {
          "output_type": "display_data",
          "data": {
            "image/png": "[encoded data removed]",
            "text/plain": [
              "<Figure size 432x288 with 1 Axes>"
            ]
          },
          "metadata": {
            "tags": []
          }
        }
      ]
    },
    {
      "cell_type": "markdown",
      "metadata": {
        "id": "jI0DdPJvi36k",
        "colab_type": "text"
      },
      "source": [
        "###Calculating eigen vectors w1,w2"
      ]
    },
    {
      "cell_type": "code",
      "metadata": {
        "id": "RWqpc_l3EVGD",
        "colab_type": "code",
        "outputId": "5456a4d0-c073-4690-8f24-9ed789d0b182",
        "colab": {
          "base_uri": "https://localhost:8080/",
          "height": 51
        }
      },
      "source": [
        "w1=np.random.standard_normal((2,1))\n",
        "print(w1)"
      ],
      "execution_count": 29,
      "outputs": [
        {
          "output_type": "stream",
          "text": [
            "[[ 1.08911549]\n",
            " [-0.33906915]]\n"
          ],
          "name": "stdout"
        }
      ]
    },
    {
      "cell_type": "code",
      "metadata": {
        "id": "EO44NRyJCkUa",
        "colab_type": "code",
        "outputId": "588f9a19-41fc-49b6-fea0-64539a7a12dd",
        "colab": {
          "base_uri": "https://localhost:8080/",
          "height": 34
        }
      },
      "source": [
        "w1.shape"
      ],
      "execution_count": 30,
      "outputs": [
        {
          "output_type": "execute_result",
          "data": {
            "text/plain": [
              "(2, 1)"
            ]
          },
          "metadata": {
            "tags": []
          },
          "execution_count": 30
        }
      ]
    },
    {
      "cell_type": "markdown",
      "metadata": {
        "id": "fvyUYUxajJTT",
        "colab_type": "text"
      },
      "source": [
        "### L2-normalize w1 and checking if it sums upto 1"
      ]
    },
    {
      "cell_type": "code",
      "metadata": {
        "id": "jZc60bC9EVX6",
        "colab_type": "code",
        "colab": {}
      },
      "source": [
        "denom=math.sqrt(pow(w1[0],2)+pow(w1[1],2))"
      ],
      "execution_count": 0,
      "outputs": []
    },
    {
      "cell_type": "code",
      "metadata": {
        "id": "EkNJvBlSEVUG",
        "colab_type": "code",
        "colab": {}
      },
      "source": [
        "w1=w1/denom"
      ],
      "execution_count": 0,
      "outputs": []
    },
    {
      "cell_type": "code",
      "metadata": {
        "id": "HnZVopg7TpQs",
        "colab_type": "code",
        "outputId": "ae6592cb-64fc-45db-c965-d549673cd989",
        "colab": {
          "base_uri": "https://localhost:8080/",
          "height": 34
        }
      },
      "source": [
        "w1[0],w1[1]"
      ],
      "execution_count": 33,
      "outputs": [
        {
          "output_type": "execute_result",
          "data": {
            "text/plain": [
              "(array([0.95479876]), array([-0.29725296]))"
            ]
          },
          "metadata": {
            "tags": []
          },
          "execution_count": 33
        }
      ]
    },
    {
      "cell_type": "code",
      "metadata": {
        "id": "IgvWHohVUAkR",
        "colab_type": "code",
        "outputId": "f850e0a5-ed2e-46e8-c97e-ad0678e16b44",
        "colab": {
          "base_uri": "https://localhost:8080/",
          "height": 34
        }
      },
      "source": [
        "print(pow(w1[0],2)+pow(w1[1],2))"
      ],
      "execution_count": 34,
      "outputs": [
        {
          "output_type": "stream",
          "text": [
            "[1.]\n"
          ],
          "name": "stdout"
        }
      ]
    },
    {
      "cell_type": "markdown",
      "metadata": {
        "id": "GdvMZWGJjaqw",
        "colab_type": "text"
      },
      "source": [
        "###Update step(gradient)"
      ]
    },
    {
      "cell_type": "code",
      "metadata": {
        "id": "-A9MsbX0UeKM",
        "colab_type": "code",
        "colab": {}
      },
      "source": [
        "delta_w=2*np.matmul(np.matmul(mat_f,mat_f.T),w1)"
      ],
      "execution_count": 0,
      "outputs": []
    },
    {
      "cell_type": "code",
      "metadata": {
        "id": "ccVnaT7jUepR",
        "colab_type": "code",
        "outputId": "af5a7989-b08b-41a1-9517-56b92f7cf836",
        "colab": {
          "base_uri": "https://localhost:8080/",
          "height": 51
        }
      },
      "source": [
        "delta_w"
      ],
      "execution_count": 36,
      "outputs": [
        {
          "output_type": "execute_result",
          "data": {
            "text/plain": [
              "array([[ 2263.24836622],\n",
              "       [-1887.03407902]])"
            ]
          },
          "metadata": {
            "tags": []
          },
          "execution_count": 36
        }
      ]
    },
    {
      "cell_type": "code",
      "metadata": {
        "id": "BEEtgCAiUe6T",
        "colab_type": "code",
        "outputId": "014ec6fd-e1eb-4555-b61c-54d7343269c7",
        "colab": {
          "base_uri": "https://localhost:8080/",
          "height": 51
        }
      },
      "source": [
        "learning_rate=0.002\n",
        "w1=w1+learning_rate*delta_w #gradient ascent\n",
        "w1"
      ],
      "execution_count": 37,
      "outputs": [
        {
          "output_type": "execute_result",
          "data": {
            "text/plain": [
              "array([[ 5.48129549],\n",
              "       [-4.07132112]])"
            ]
          },
          "metadata": {
            "tags": []
          },
          "execution_count": 37
        }
      ]
    },
    {
      "cell_type": "code",
      "metadata": {
        "id": "_X3jLad18r9E",
        "colab_type": "code",
        "outputId": "cf20e2f7-dd64-4f24-b336-0d6e8abaec38",
        "colab": {
          "base_uri": "https://localhost:8080/",
          "height": 34
        }
      },
      "source": [
        "denom=math.sqrt(pow(w1[0],2)+pow(w1[1],2))\n",
        "w1=w1/denom\n",
        "w1[0],w1[1]"
      ],
      "execution_count": 38,
      "outputs": [
        {
          "output_type": "execute_result",
          "data": {
            "text/plain": [
              "(array([0.80277879]), array([-0.59627696]))"
            ]
          },
          "metadata": {
            "tags": []
          },
          "execution_count": 38
        }
      ]
    },
    {
      "cell_type": "code",
      "metadata": {
        "id": "6osjQ-mb8r7c",
        "colab_type": "code",
        "outputId": "6c6acb83-8b7c-4924-cb56-d61680675b9d",
        "colab": {
          "base_uri": "https://localhost:8080/",
          "height": 34
        }
      },
      "source": [
        "print(pow(w1[0],2)+pow(w1[1],2))"
      ],
      "execution_count": 39,
      "outputs": [
        {
          "output_type": "stream",
          "text": [
            "[1.]\n"
          ],
          "name": "stdout"
        }
      ]
    },
    {
      "cell_type": "markdown",
      "metadata": {
        "id": "lU-2yjX2jvH2",
        "colab_type": "text"
      },
      "source": [
        "###Updating until absolute values of gradient updates are too small"
      ]
    },
    {
      "cell_type": "code",
      "metadata": {
        "id": "2OkRpoCh8r5C",
        "colab_type": "code",
        "outputId": "33bcb514-3f1f-4efc-8a84-e7a1029db6de",
        "colab": {
          "base_uri": "https://localhost:8080/",
          "height": 1000
        }
      },
      "source": [
        "for i in range(50):\n",
        "  delta_w=2*np.matmul(np.matmul(mat_f,mat_f.T),w1)\n",
        "  print('Epoch:',i,'delta_w:',delta_w)\n",
        "  w1=w1+learning_rate*delta_w\n",
        "  denom=math.sqrt(pow(w1[0],2)+pow(w1[1],2))\n",
        "  w1=w1/denom"
      ],
      "execution_count": 40,
      "outputs": [
        {
          "output_type": "stream",
          "text": [
            "Epoch: 0 delta_w: [[ 2376.77550492]\n",
            " [-2263.19164461]]\n",
            "Epoch: 1 delta_w: [[ 2356.98752553]\n",
            " [-2330.07412614]]\n",
            "Epoch: 2 delta_w: [[ 2346.45906007]\n",
            " [-2344.41104922]]\n",
            "Epoch: 3 delta_w: [[ 2343.08427538]\n",
            " [-2348.08317311]]\n",
            "Epoch: 4 delta_w: [[ 2342.09734951]\n",
            " [-2349.09156545]]\n",
            "Epoch: 5 delta_w: [[ 2341.81540163]\n",
            " [-2349.37456241]]\n",
            "Epoch: 6 delta_w: [[ 2341.73537036]\n",
            " [-2349.45448756]]\n",
            "Epoch: 7 delta_w: [[ 2341.71269438]\n",
            " [-2349.47710117]]\n",
            "Epoch: 8 delta_w: [[ 2341.70627267]\n",
            " [-2349.48350263]]\n",
            "Epoch: 9 delta_w: [[ 2341.70445434]\n",
            " [-2349.48531502]]\n",
            "Epoch: 10 delta_w: [[ 2341.7039395 ]\n",
            " [-2349.48582816]]\n",
            "Epoch: 11 delta_w: [[ 2341.70379372]\n",
            " [-2349.48597346]]\n",
            "Epoch: 12 delta_w: [[ 2341.70375245]\n",
            " [-2349.48601459]]\n",
            "Epoch: 13 delta_w: [[ 2341.70374077]\n",
            " [-2349.48602624]]\n",
            "Epoch: 14 delta_w: [[ 2341.70373746]\n",
            " [-2349.48602954]]\n",
            "Epoch: 15 delta_w: [[ 2341.70373652]\n",
            " [-2349.48603047]]\n",
            "Epoch: 16 delta_w: [[ 2341.70373625]\n",
            " [-2349.48603074]]\n",
            "Epoch: 17 delta_w: [[ 2341.70373618]\n",
            " [-2349.48603081]]\n",
            "Epoch: 18 delta_w: [[ 2341.70373616]\n",
            " [-2349.48603083]]\n",
            "Epoch: 19 delta_w: [[ 2341.70373615]\n",
            " [-2349.48603084]]\n",
            "Epoch: 20 delta_w: [[ 2341.70373615]\n",
            " [-2349.48603084]]\n",
            "Epoch: 21 delta_w: [[ 2341.70373615]\n",
            " [-2349.48603084]]\n",
            "Epoch: 22 delta_w: [[ 2341.70373615]\n",
            " [-2349.48603084]]\n",
            "Epoch: 23 delta_w: [[ 2341.70373615]\n",
            " [-2349.48603084]]\n",
            "Epoch: 24 delta_w: [[ 2341.70373615]\n",
            " [-2349.48603084]]\n",
            "Epoch: 25 delta_w: [[ 2341.70373615]\n",
            " [-2349.48603084]]\n",
            "Epoch: 26 delta_w: [[ 2341.70373615]\n",
            " [-2349.48603084]]\n",
            "Epoch: 27 delta_w: [[ 2341.70373615]\n",
            " [-2349.48603084]]\n",
            "Epoch: 28 delta_w: [[ 2341.70373615]\n",
            " [-2349.48603084]]\n",
            "Epoch: 29 delta_w: [[ 2341.70373615]\n",
            " [-2349.48603084]]\n",
            "Epoch: 30 delta_w: [[ 2341.70373615]\n",
            " [-2349.48603084]]\n",
            "Epoch: 31 delta_w: [[ 2341.70373615]\n",
            " [-2349.48603084]]\n",
            "Epoch: 32 delta_w: [[ 2341.70373615]\n",
            " [-2349.48603084]]\n",
            "Epoch: 33 delta_w: [[ 2341.70373615]\n",
            " [-2349.48603084]]\n",
            "Epoch: 34 delta_w: [[ 2341.70373615]\n",
            " [-2349.48603084]]\n",
            "Epoch: 35 delta_w: [[ 2341.70373615]\n",
            " [-2349.48603084]]\n",
            "Epoch: 36 delta_w: [[ 2341.70373615]\n",
            " [-2349.48603084]]\n",
            "Epoch: 37 delta_w: [[ 2341.70373615]\n",
            " [-2349.48603084]]\n",
            "Epoch: 38 delta_w: [[ 2341.70373615]\n",
            " [-2349.48603084]]\n",
            "Epoch: 39 delta_w: [[ 2341.70373615]\n",
            " [-2349.48603084]]\n",
            "Epoch: 40 delta_w: [[ 2341.70373615]\n",
            " [-2349.48603084]]\n",
            "Epoch: 41 delta_w: [[ 2341.70373615]\n",
            " [-2349.48603084]]\n",
            "Epoch: 42 delta_w: [[ 2341.70373615]\n",
            " [-2349.48603084]]\n",
            "Epoch: 43 delta_w: [[ 2341.70373615]\n",
            " [-2349.48603084]]\n",
            "Epoch: 44 delta_w: [[ 2341.70373615]\n",
            " [-2349.48603084]]\n",
            "Epoch: 45 delta_w: [[ 2341.70373615]\n",
            " [-2349.48603084]]\n",
            "Epoch: 46 delta_w: [[ 2341.70373615]\n",
            " [-2349.48603084]]\n",
            "Epoch: 47 delta_w: [[ 2341.70373615]\n",
            " [-2349.48603084]]\n",
            "Epoch: 48 delta_w: [[ 2341.70373615]\n",
            " [-2349.48603084]]\n",
            "Epoch: 49 delta_w: [[ 2341.70373615]\n",
            " [-2349.48603084]]\n"
          ],
          "name": "stdout"
        }
      ]
    },
    {
      "cell_type": "code",
      "metadata": {
        "id": "I2fmIUn38rz8",
        "colab_type": "code",
        "outputId": "72fbe3ea-356b-4648-a783-6df2dfcb251a",
        "colab": {
          "base_uri": "https://localhost:8080/",
          "height": 51
        }
      },
      "source": [
        "w1"
      ],
      "execution_count": 41,
      "outputs": [
        {
          "output_type": "execute_result",
          "data": {
            "text/plain": [
              "array([[ 0.70593278],\n",
              "       [-0.70827884]])"
            ]
          },
          "metadata": {
            "tags": []
          },
          "execution_count": 41
        }
      ]
    },
    {
      "cell_type": "markdown",
      "metadata": {
        "id": "R_Q7_GLDj_KJ",
        "colab_type": "text"
      },
      "source": [
        "### Calculating maximum eigen-value"
      ]
    },
    {
      "cell_type": "code",
      "metadata": {
        "id": "hB0qDOXOGcSI",
        "colab_type": "code",
        "colab": {}
      },
      "source": [
        "v=w1\n",
        "A=mat_f"
      ],
      "execution_count": 0,
      "outputs": []
    },
    {
      "cell_type": "code",
      "metadata": {
        "id": "8WrUBzgGMbAJ",
        "colab_type": "code",
        "outputId": "35b4c3b5-df6c-4c83-d2b3-bf59377d7c11",
        "colab": {
          "base_uri": "https://localhost:8080/",
          "height": 34
        }
      },
      "source": [
        "v.shape,A.shape"
      ],
      "execution_count": 43,
      "outputs": [
        {
          "output_type": "execute_result",
          "data": {
            "text/plain": [
              "((2, 1), (2, 1000))"
            ]
          },
          "metadata": {
            "tags": []
          },
          "execution_count": 43
        }
      ]
    },
    {
      "cell_type": "code",
      "metadata": {
        "id": "sx4E7PpcGccj",
        "colab_type": "code",
        "outputId": "3b6ff3c2-e5c0-46d2-b622-1cf62a5ea770",
        "colab": {
          "base_uri": "https://localhost:8080/",
          "height": 34
        }
      },
      "source": [
        "sd=np.matmul(v.T,A)\n",
        "sd=np.matmul(sd,sd.T)\n",
        "print('Maximum Eigen Value for 1st eigen vector:',sd[0][0])"
      ],
      "execution_count": 44,
      "outputs": [
        {
          "output_type": "stream",
          "text": [
            "Maximum Eigen Value for 1st eigen vector: 1658.5883302531922\n"
          ],
          "name": "stdout"
        }
      ]
    },
    {
      "cell_type": "code",
      "metadata": {
        "id": "jwMccu5mPEKo",
        "colab_type": "code",
        "colab": {}
      },
      "source": [
        "ud=np.matmul(A.T,(v/sd))"
      ],
      "execution_count": 0,
      "outputs": []
    },
    {
      "cell_type": "code",
      "metadata": {
        "id": "LTuXGzjUGcXg",
        "colab_type": "code",
        "colab": {}
      },
      "source": [
        "A_without_first=(A-np.matmul(v,(np.matmul(sd,ud.T))))"
      ],
      "execution_count": 0,
      "outputs": []
    },
    {
      "cell_type": "markdown",
      "metadata": {
        "id": "JQjON8tDk0OR",
        "colab_type": "text"
      },
      "source": [
        "###Scatter plot of eigen vector to see direction of the 1st eigen vector"
      ]
    },
    {
      "cell_type": "code",
      "metadata": {
        "id": "CnyF0aIQGcOi",
        "colab_type": "code",
        "outputId": "fe2e1001-85db-4196-d9af-bf3b1846de7f",
        "colab": {
          "base_uri": "https://localhost:8080/",
          "height": 284
        }
      },
      "source": [
        "plt.scatter(A_without_first[0,:],A_without_first[1,:])"
      ],
      "execution_count": 47,
      "outputs": [
        {
          "output_type": "execute_result",
          "data": {
            "text/plain": [
              "<matplotlib.collections.PathCollection at 0x7f41713b4358>"
            ]
          },
          "metadata": {
            "tags": []
          },
          "execution_count": 47
        },
        {
          "output_type": "display_data",
          "data": {
            "image/png": "[encoded data removed]",
            "text/plain": [
              "<Figure size 432x288 with 1 Axes>"
            ]
          },
          "metadata": {
            "tags": []
          }
        }
      ]
    },
    {
      "cell_type": "markdown",
      "metadata": {
        "id": "sJbP-_G4lZs-",
        "colab_type": "text"
      },
      "source": [
        "### Following the above steps to find the 2nd eigen vector and maximum eigen value of that"
      ]
    },
    {
      "cell_type": "code",
      "metadata": {
        "id": "7TmzdLFJVJSu",
        "colab_type": "code",
        "colab": {}
      },
      "source": [
        "w2=np.random.standard_normal((2,1))\n",
        "denom=math.sqrt(pow(w2[0],2)+pow(w2[1],2))\n",
        "w2=w2/denom\n",
        "learning_rate=0.002"
      ],
      "execution_count": 0,
      "outputs": []
    },
    {
      "cell_type": "code",
      "metadata": {
        "id": "F1zIjlcXXZnu",
        "colab_type": "code",
        "outputId": "20258fcc-e6f7-4206-8d0d-2a4866f14f22",
        "colab": {
          "base_uri": "https://localhost:8080/",
          "height": 1000
        }
      },
      "source": [
        "for i in range(50):\n",
        "  delta_w2=2*np.matmul(np.matmul(A_without_first,A_without_first.T),w2)\n",
        "  print('Epoch:',i,'delta_w2:',delta_w2)\n",
        "  w2=w2+learning_rate*delta_w2\n",
        "  denom2=math.sqrt(pow(w2[0],2)+pow(w2[1],2))\n",
        "  w2=w2/denom2"
      ],
      "execution_count": 49,
      "outputs": [
        {
          "output_type": "stream",
          "text": [
            "Epoch: 0 delta_w2: [[346.1394586]\n",
            " [344.9929273]]\n",
            "Epoch: 1 delta_w2: [[394.32627038]\n",
            " [393.02012802]]\n",
            "Epoch: 2 delta_w2: [[407.52738365]\n",
            " [406.17751472]]\n",
            "Epoch: 3 delta_w2: [[410.52903251]\n",
            " [409.1692211 ]]\n",
            "Epoch: 4 delta_w2: [[411.18011614]\n",
            " [409.81814812]]\n",
            "Epoch: 5 delta_w2: [[411.31986612]\n",
            " [409.9574352 ]]\n",
            "Epoch: 6 delta_w2: [[411.3497944 ]\n",
            " [409.98726435]]\n",
            "Epoch: 7 delta_w2: [[411.35620059]\n",
            " [409.99364932]]\n",
            "Epoch: 8 delta_w2: [[411.35757171]\n",
            " [409.9950159 ]]\n",
            "Epoch: 9 delta_w2: [[411.35786516]\n",
            " [409.99530838]]\n",
            "Epoch: 10 delta_w2: [[411.35792797]\n",
            " [409.99537098]]\n",
            "Epoch: 11 delta_w2: [[411.35794141]\n",
            " [409.99538437]]\n",
            "Epoch: 12 delta_w2: [[411.35794429]\n",
            " [409.99538724]]\n",
            "Epoch: 13 delta_w2: [[411.3579449 ]\n",
            " [409.99538785]]\n",
            "Epoch: 14 delta_w2: [[411.35794503]\n",
            " [409.99538799]]\n",
            "Epoch: 15 delta_w2: [[411.35794506]\n",
            " [409.99538801]]\n",
            "Epoch: 16 delta_w2: [[411.35794507]\n",
            " [409.99538802]]\n",
            "Epoch: 17 delta_w2: [[411.35794507]\n",
            " [409.99538802]]\n",
            "Epoch: 18 delta_w2: [[411.35794507]\n",
            " [409.99538802]]\n",
            "Epoch: 19 delta_w2: [[411.35794507]\n",
            " [409.99538802]]\n",
            "Epoch: 20 delta_w2: [[411.35794507]\n",
            " [409.99538802]]\n",
            "Epoch: 21 delta_w2: [[411.35794507]\n",
            " [409.99538802]]\n",
            "Epoch: 22 delta_w2: [[411.35794507]\n",
            " [409.99538802]]\n",
            "Epoch: 23 delta_w2: [[411.35794507]\n",
            " [409.99538802]]\n",
            "Epoch: 24 delta_w2: [[411.35794507]\n",
            " [409.99538802]]\n",
            "Epoch: 25 delta_w2: [[411.35794507]\n",
            " [409.99538802]]\n",
            "Epoch: 26 delta_w2: [[411.35794507]\n",
            " [409.99538802]]\n",
            "Epoch: 27 delta_w2: [[411.35794507]\n",
            " [409.99538802]]\n",
            "Epoch: 28 delta_w2: [[411.35794507]\n",
            " [409.99538802]]\n",
            "Epoch: 29 delta_w2: [[411.35794507]\n",
            " [409.99538802]]\n",
            "Epoch: 30 delta_w2: [[411.35794507]\n",
            " [409.99538802]]\n",
            "Epoch: 31 delta_w2: [[411.35794507]\n",
            " [409.99538802]]\n",
            "Epoch: 32 delta_w2: [[411.35794507]\n",
            " [409.99538802]]\n",
            "Epoch: 33 delta_w2: [[411.35794507]\n",
            " [409.99538802]]\n",
            "Epoch: 34 delta_w2: [[411.35794507]\n",
            " [409.99538802]]\n",
            "Epoch: 35 delta_w2: [[411.35794507]\n",
            " [409.99538802]]\n",
            "Epoch: 36 delta_w2: [[411.35794507]\n",
            " [409.99538802]]\n",
            "Epoch: 37 delta_w2: [[411.35794507]\n",
            " [409.99538802]]\n",
            "Epoch: 38 delta_w2: [[411.35794507]\n",
            " [409.99538802]]\n",
            "Epoch: 39 delta_w2: [[411.35794507]\n",
            " [409.99538802]]\n",
            "Epoch: 40 delta_w2: [[411.35794507]\n",
            " [409.99538802]]\n",
            "Epoch: 41 delta_w2: [[411.35794507]\n",
            " [409.99538802]]\n",
            "Epoch: 42 delta_w2: [[411.35794507]\n",
            " [409.99538802]]\n",
            "Epoch: 43 delta_w2: [[411.35794507]\n",
            " [409.99538802]]\n",
            "Epoch: 44 delta_w2: [[411.35794507]\n",
            " [409.99538802]]\n",
            "Epoch: 45 delta_w2: [[411.35794507]\n",
            " [409.99538802]]\n",
            "Epoch: 46 delta_w2: [[411.35794507]\n",
            " [409.99538802]]\n",
            "Epoch: 47 delta_w2: [[411.35794507]\n",
            " [409.99538802]]\n",
            "Epoch: 48 delta_w2: [[411.35794507]\n",
            " [409.99538802]]\n",
            "Epoch: 49 delta_w2: [[411.35794507]\n",
            " [409.99538802]]\n"
          ],
          "name": "stdout"
        }
      ]
    },
    {
      "cell_type": "code",
      "metadata": {
        "id": "7sw-1XKoZsec",
        "colab_type": "code",
        "outputId": "daa789cc-e96e-4fa7-f43f-82889efedcbd",
        "colab": {
          "base_uri": "https://localhost:8080/",
          "height": 51
        }
      },
      "source": [
        "v2=w2\n",
        "A2=A_without_first\n",
        "sd2=np.matmul(v2.T,A2)\n",
        "sd2=np.matmul(sd2,sd2.T)\n",
        "ud2=np.matmul(A2.T,(v2/sd2))\n",
        "print(v2)"
      ],
      "execution_count": 50,
      "outputs": [
        {
          "output_type": "stream",
          "text": [
            "[[0.70827884]\n",
            " [0.70593278]]\n"
          ],
          "name": "stdout"
        }
      ]
    },
    {
      "cell_type": "code",
      "metadata": {
        "id": "0Nn2e6mXaGgD",
        "colab_type": "code",
        "outputId": "a7b2f2b8-9fe5-4cd3-defe-b5ee88c6a84b",
        "colab": {
          "base_uri": "https://localhost:8080/",
          "height": 34
        }
      },
      "source": [
        "print('Maximum eigen value of 2nd eigen vector:',sd2[0][0])"
      ],
      "execution_count": 51,
      "outputs": [
        {
          "output_type": "stream",
          "text": [
            "Maximum eigen value of 2nd eigen vector: 290.39265536970817\n"
          ],
          "name": "stdout"
        }
      ]
    },
    {
      "cell_type": "markdown",
      "metadata": {
        "id": "0kkM5ON1l7b_",
        "colab_type": "text"
      },
      "source": [
        "###Scatter plot of eigen vector to see direction of the 2nd eigen vector"
      ]
    },
    {
      "cell_type": "code",
      "metadata": {
        "id": "ChO6dmvdZsyG",
        "colab_type": "code",
        "outputId": "ad5e3360-c9d9-4100-9a2b-ec845631e10b",
        "colab": {
          "base_uri": "https://localhost:8080/",
          "height": 282
        }
      },
      "source": [
        "A_without_second=A-np.matmul(v2,(np.matmul(sd2,ud2.T)))\n",
        "plt.scatter(A_without_second[0,:],A_without_second[1,:])"
      ],
      "execution_count": 52,
      "outputs": [
        {
          "output_type": "execute_result",
          "data": {
            "text/plain": [
              "<matplotlib.collections.PathCollection at 0x7f417138da58>"
            ]
          },
          "metadata": {
            "tags": []
          },
          "execution_count": 52
        },
        {
          "output_type": "display_data",
          "data": {
            "image/png": "[encoded data removed]",
            "text/plain": [
              "<Figure size 432x288 with 1 Axes>"
            ]
          },
          "metadata": {
            "tags": []
          }
        }
      ]
    },
    {
      "cell_type": "markdown",
      "metadata": {
        "id": "jqbrDQhVmA8c",
        "colab_type": "text"
      },
      "source": [
        "###Adding direction to initial scatter plot of the data"
      ]
    },
    {
      "cell_type": "code",
      "metadata": {
        "id": "gUrQjBZxbNky",
        "colab_type": "code",
        "outputId": "1690416b-e08c-4d50-948c-c34f4aa520d6",
        "colab": {
          "base_uri": "https://localhost:8080/",
          "height": 282
        }
      },
      "source": [
        "plt.scatter(mat_f[0,:],mat_f[1,:])\n",
        "#plt.plot(A_without_first[0,:],A_without_first[1,:],'.y-')\n",
        "#plt.plot(A_without_second[0,:],A_without_second[1,:],'.r-')\n",
        "plt.plot((0,w1[0]),(0,w1[1]),'r')\n",
        "plt.plot((0,w2[0]),(0,w2[1]),'r')"
      ],
      "execution_count": 53,
      "outputs": [
        {
          "output_type": "execute_result",
          "data": {
            "text/plain": [
              "[<matplotlib.lines.Line2D at 0x7f41712f8278>]"
            ]
          },
          "metadata": {
            "tags": []
          },
          "execution_count": 53
        },
        {
          "output_type": "display_data",
          "data": {
            "image/png": "[encoded data removed]",
            "text/plain": [
              "<Figure size 432x288 with 1 Axes>"
            ]
          },
          "metadata": {
            "tags": []
          }
        }
      ]
    },
    {
      "cell_type": "markdown",
      "metadata": {
        "id": "aXC_BcWXmi30",
        "colab_type": "text"
      },
      "source": [
        "##P4: Eigenvectors for Two-Notes"
      ]
    },
    {
      "cell_type": "markdown",
      "metadata": {
        "id": "X2fmpM8Gmo4o",
        "colab_type": "text"
      },
      "source": [
        "###Loading Flute.mat and defining colormap"
      ]
    },
    {
      "cell_type": "code",
      "metadata": {
        "id": "n_xj-dkLbw1_",
        "colab_type": "code",
        "colab": {}
      },
      "source": [
        "mat = scipy.io.loadmat('flute.mat')\n",
        "mat_f=mat['X']"
      ],
      "execution_count": 0,
      "outputs": []
    },
    {
      "cell_type": "code",
      "metadata": {
        "id": "hBE892uWpXfN",
        "colab_type": "code",
        "colab": {}
      },
      "source": [
        "from collections import OrderedDict\n",
        "cmaps = OrderedDict()\n",
        "cmaps['Perceptually Uniform Sequential'] = ['viridis', 'plasma', 'inferno', 'magma', 'cividis']"
      ],
      "execution_count": 0,
      "outputs": []
    },
    {
      "cell_type": "markdown",
      "metadata": {
        "id": "nGIhSNKooV_-",
        "colab_type": "text"
      },
      "source": [
        "###Checking different colormaps to see which one is good to visualize the data"
      ]
    },
    {
      "cell_type": "code",
      "metadata": {
        "id": "tS6vophurdRT",
        "colab_type": "code",
        "outputId": "ab26f523-cc7a-40c5-cec5-ca93ee133f9a",
        "colab": {
          "base_uri": "https://localhost:8080/",
          "height": 285
        }
      },
      "source": [
        "plt.imshow(mat_f,cmap='plasma')"
      ],
      "execution_count": 56,
      "outputs": [
        {
          "output_type": "execute_result",
          "data": {
            "text/plain": [
              "<matplotlib.image.AxesImage at 0x7f41712d66a0>"
            ]
          },
          "metadata": {
            "tags": []
          },
          "execution_count": 56
        },
        {
          "output_type": "display_data",
          "data": {
            "image/png": "[encoded data removed]",
            "text/plain": [
              "<Figure size 432x288 with 1 Axes>"
            ]
          },
          "metadata": {
            "tags": []
          }
        }
      ]
    },
    {
      "cell_type": "code",
      "metadata": {
        "id": "HpUCU_eftwh-",
        "colab_type": "code",
        "outputId": "b4bb23cc-72d0-41a0-d006-44076141e5cb",
        "colab": {
          "base_uri": "https://localhost:8080/",
          "height": 292
        }
      },
      "source": [
        "plt.matshow(mat_f,cmap='viridis_r')"
      ],
      "execution_count": 57,
      "outputs": [
        {
          "output_type": "execute_result",
          "data": {
            "text/plain": [
              "<matplotlib.image.AxesImage at 0x7f417123e7b8>"
            ]
          },
          "metadata": {
            "tags": []
          },
          "execution_count": 57
        },
        {
          "output_type": "display_data",
          "data": {
            "image/png": "[encoded data removed]",
            "text/plain": [
              "<Figure size 321.75x288 with 1 Axes>"
            ]
          },
          "metadata": {
            "tags": []
          }
        }
      ]
    },
    {
      "cell_type": "code",
      "metadata": {
        "id": "wB7ieXDrt1p0",
        "colab_type": "code",
        "outputId": "ce9429de-becd-4760-87f5-00530e268104",
        "colab": {
          "base_uri": "https://localhost:8080/",
          "height": 292
        }
      },
      "source": [
        "plt.matshow(mat_f,cmap='twilight_shifted')"
      ],
      "execution_count": 58,
      "outputs": [
        {
          "output_type": "execute_result",
          "data": {
            "text/plain": [
              "<matplotlib.image.AxesImage at 0x7f4171226fd0>"
            ]
          },
          "metadata": {
            "tags": []
          },
          "execution_count": 58
        },
        {
          "output_type": "display_data",
          "data": {
            "image/png": "[encoded data removed]",
            "text/plain": [
              "<Figure size 321.75x288 with 1 Axes>"
            ]
          },
          "metadata": {
            "tags": []
          }
        }
      ]
    },
    {
      "cell_type": "code",
      "metadata": {
        "id": "009sl9IYuqnT",
        "colab_type": "code",
        "outputId": "da68fc6d-bcf9-495e-daa8-40a5c21b8d2a",
        "colab": {
          "base_uri": "https://localhost:8080/",
          "height": 34
        }
      },
      "source": [
        "mat_f.shape"
      ],
      "execution_count": 59,
      "outputs": [
        {
          "output_type": "execute_result",
          "data": {
            "text/plain": [
              "(128, 143)"
            ]
          },
          "metadata": {
            "tags": []
          },
          "execution_count": 59
        }
      ]
    },
    {
      "cell_type": "code",
      "metadata": {
        "id": "aHfzxhXXaFZM",
        "colab_type": "code",
        "outputId": "5d561388-20c5-425b-ac18-e7d2a935dddc",
        "colab": {
          "base_uri": "https://localhost:8080/",
          "height": 34
        }
      },
      "source": [
        "w1.shape"
      ],
      "execution_count": 60,
      "outputs": [
        {
          "output_type": "execute_result",
          "data": {
            "text/plain": [
              "(2, 1)"
            ]
          },
          "metadata": {
            "tags": []
          },
          "execution_count": 60
        }
      ]
    },
    {
      "cell_type": "markdown",
      "metadata": {
        "id": "8f_rf8jGovOo",
        "colab_type": "text"
      },
      "source": [
        "###Calculating eigen vectors v1,v2 and plotting them to check their representative spectra"
      ]
    },
    {
      "cell_type": "code",
      "metadata": {
        "id": "2c55Peg4wqLC",
        "colab_type": "code",
        "colab": {}
      },
      "source": [
        "w1=np.random.standard_normal((128,1))\n",
        "summ=0\n",
        "for i in range(128):\n",
        "  summ+=(pow(w1[i],2))\n",
        "denom=math.sqrt(summ)  \n",
        "w1=w1/denom\n",
        "learning_rate=0.002\n",
        "for i in range(50):\n",
        "  delta_w1=2*np.matmul(np.matmul(mat_f,mat_f.T),w1)\n",
        "  #print('Epoch:',i,'delta_w1:',delta_w1)\n",
        "  w1=w1+learning_rate*delta_w1\n",
        "  summ1=sum(pow(w1,2))\n",
        "  denom1=math.sqrt(summ1)\n",
        "  w1=w1/denom1\n",
        "v1=w1\n",
        "A=mat_f\n",
        "sd1=np.matmul(v1.T,A)\n",
        "sd1=np.matmul(sd1,sd1.T)\n",
        "ud1=np.matmul(A.T,(v1/sd1))\n",
        "#print(v1)  \n",
        "#print(sd1)\n",
        "A_without_first=A-np.matmul(v1,(np.matmul(sd1,ud1.T)))"
      ],
      "execution_count": 0,
      "outputs": []
    },
    {
      "cell_type": "code",
      "metadata": {
        "id": "aA7SY7yY3o0J",
        "colab_type": "code",
        "outputId": "1b8661da-c546-43a0-d741-ecd2e2383a94",
        "colab": {
          "base_uri": "https://localhost:8080/",
          "height": 961
        }
      },
      "source": [
        "plt.matshow(v1,cmap='viridis_r')"
      ],
      "execution_count": 62,
      "outputs": [
        {
          "output_type": "execute_result",
          "data": {
            "text/plain": [
              "<matplotlib.image.AxesImage at 0x7f4171199b70>"
            ]
          },
          "metadata": {
            "tags": []
          },
          "execution_count": 62
        },
        {
          "output_type": "display_data",
          "data": {
            "image/png": "[encoded data removed]",
            "text/plain": [
              "<Figure size 288x1152 with 1 Axes>"
            ]
          },
          "metadata": {
            "tags": []
          }
        }
      ]
    },
    {
      "cell_type": "code",
      "metadata": {
        "id": "ZbMYIbHfAG5r",
        "colab_type": "code",
        "colab": {}
      },
      "source": [
        "w2=np.random.standard_normal((128,1))\n",
        "summ=0\n",
        "for i in range(128):\n",
        "  summ+=sum(pow(w2[i],2))\n",
        "denom=math.sqrt(summ)  \n",
        "w2=w2/denom\n",
        "learning_rate=0.002\n",
        "for i in range(50):\n",
        "  delta_w2=2*np.matmul(np.matmul(A_without_first,A_without_first.T),w2)\n",
        "  #print('Epoch:',i,'delta_w1:',delta_w1)\n",
        "  w2=w2+learning_rate*delta_w2\n",
        "  summ2=sum(pow(w2,2))\n",
        "  denom2=math.sqrt(summ2)\n",
        "  w2=w2/denom2\n",
        "v2=w2\n",
        "A=A_without_first\n",
        "sd2=np.matmul(v2.T,A)\n",
        "sd2=np.matmul(sd2,sd2.T)\n",
        "ud2=np.matmul(A.T,(v2/sd2))\n",
        "#print(v1)  \n",
        "#print(sd1)\n",
        "A_without_second=A-np.matmul(v2,(np.matmul(sd2,ud2.T)))"
      ],
      "execution_count": 0,
      "outputs": []
    },
    {
      "cell_type": "code",
      "metadata": {
        "id": "riqfi4sFvbCE",
        "colab_type": "code",
        "outputId": "287858fd-6749-4d23-c142-401e4af24333",
        "colab": {
          "base_uri": "https://localhost:8080/",
          "height": 961
        }
      },
      "source": [
        "plt.matshow(v2,cmap='viridis_r')"
      ],
      "execution_count": 64,
      "outputs": [
        {
          "output_type": "execute_result",
          "data": {
            "text/plain": [
              "<matplotlib.image.AxesImage at 0x7f4171107208>"
            ]
          },
          "metadata": {
            "tags": []
          },
          "execution_count": 64
        },
        {
          "output_type": "display_data",
          "data": {
            "image/png": "[encoded data removed]",
            "text/plain": [
              "<Figure size 288x1152 with 1 Axes>"
            ]
          },
          "metadata": {
            "tags": []
          }
        }
      ]
    },
    {
      "cell_type": "markdown",
      "metadata": {
        "id": "3ffgbnuIpW6R",
        "colab_type": "text"
      },
      "source": [
        "###The maximum eigen values for the 2 eigen vectors "
      ]
    },
    {
      "cell_type": "code",
      "metadata": {
        "id": "KGzRezDEDqZC",
        "colab_type": "code",
        "outputId": "fe723e79-9103-404e-d17c-68035b2daecd",
        "colab": {
          "base_uri": "https://localhost:8080/",
          "height": 68
        }
      },
      "source": [
        "print(sd1,sd2)\n",
        "print('Maximum eigen value of 1st eigen vector:',sd1[0][0])\n",
        "print('Maximum eigen value of 2nd eigen vector:',sd2[0][0])"
      ],
      "execution_count": 65,
      "outputs": [
        {
          "output_type": "stream",
          "text": [
            "[[188655.48030139]] [[43797.07037081]]\n",
            "Maximum eigen value of 1st eigen vector: 188655.48030138988\n",
            "Maximum eigen value of 2nd eigen vector: 43797.07037080818\n"
          ],
          "name": "stdout"
        }
      ]
    },
    {
      "cell_type": "code",
      "metadata": {
        "id": "TsJ801OTAzhB",
        "colab_type": "code",
        "outputId": "1696df16-f6f0-4cbb-a445-1e26a6eddee8",
        "colab": {
          "base_uri": "https://localhost:8080/",
          "height": 961
        }
      },
      "source": [
        "v=np.hstack((v1,v2))\n",
        "plt.matshow(v,cmap='viridis_r')"
      ],
      "execution_count": 66,
      "outputs": [
        {
          "output_type": "execute_result",
          "data": {
            "text/plain": [
              "<matplotlib.image.AxesImage at 0x7f41710e0978>"
            ]
          },
          "metadata": {
            "tags": []
          },
          "execution_count": 66
        },
        {
          "output_type": "display_data",
          "data": {
            "image/png": "[encoded data removed]",
            "text/plain": [
              "<Figure size 288x1152 with 1 Axes>"
            ]
          },
          "metadata": {
            "tags": []
          }
        }
      ]
    },
    {
      "cell_type": "markdown",
      "metadata": {
        "id": "cuyYMuZHp1eE",
        "colab_type": "text"
      },
      "source": [
        "###Calculating activation matrix and visualize it"
      ]
    },
    {
      "cell_type": "code",
      "metadata": {
        "id": "YGUgDgcLDnq8",
        "colab_type": "code",
        "colab": {}
      },
      "source": [
        "activation_matrix=np.dot(v.T,mat_f)"
      ],
      "execution_count": 0,
      "outputs": []
    },
    {
      "cell_type": "code",
      "metadata": {
        "id": "RMHxYIU3A-Vj",
        "colab_type": "code",
        "outputId": "3c1da837-52c9-4f59-9376-8b55b1cd7b64",
        "colab": {
          "base_uri": "https://localhost:8080/",
          "height": 34
        }
      },
      "source": [
        "v.shape,mat_f.shape,activation_matrix.shape"
      ],
      "execution_count": 68,
      "outputs": [
        {
          "output_type": "execute_result",
          "data": {
            "text/plain": [
              "((128, 2), (128, 143), (2, 143))"
            ]
          },
          "metadata": {
            "tags": []
          },
          "execution_count": 68
        }
      ]
    },
    {
      "cell_type": "code",
      "metadata": {
        "id": "I5qIcIVcHqzr",
        "colab_type": "code",
        "outputId": "a63af473-52c8-4c55-f90d-ff3f6dba0b31",
        "colab": {
          "base_uri": "https://localhost:8080/",
          "height": 81
        }
      },
      "source": [
        "plt.matshow(activation_matrix,cmap='viridis_r')"
      ],
      "execution_count": 69,
      "outputs": [
        {
          "output_type": "execute_result",
          "data": {
            "text/plain": [
              "<matplotlib.image.AxesImage at 0x7f4171037b38>"
            ]
          },
          "metadata": {
            "tags": []
          },
          "execution_count": 69
        },
        {
          "output_type": "display_data",
          "data": {
            "image/png": "[encoded data removed]",
            "text/plain": [
              "<Figure size 1152x144 with 1 Axes>"
            ]
          },
          "metadata": {
            "tags": []
          }
        }
      ]
    },
    {
      "cell_type": "markdown",
      "metadata": {
        "id": "BHxK5CShqQBb",
        "colab_type": "text"
      },
      "source": [
        "###Reshaping the activation matrix and calculating the recovered source and plotting them for eigen vectors 1 and 2 separately  "
      ]
    },
    {
      "cell_type": "code",
      "metadata": {
        "id": "KJNhRDhQKsdU",
        "colab_type": "code",
        "outputId": "afb293db-421f-4957-b277-963cbedd5abc",
        "colab": {
          "base_uri": "https://localhost:8080/",
          "height": 34
        }
      },
      "source": [
        "activation_matrix11=(activation_matrix[0].shape[0],1)\n",
        "activation_matrix22=(activation_matrix[1].shape[0],1)\n",
        "activation_matrix11,activation_matrix22"
      ],
      "execution_count": 70,
      "outputs": [
        {
          "output_type": "execute_result",
          "data": {
            "text/plain": [
              "((143, 1), (143, 1))"
            ]
          },
          "metadata": {
            "tags": []
          },
          "execution_count": 70
        }
      ]
    },
    {
      "cell_type": "code",
      "metadata": {
        "id": "Tkz4yvmWRVG7",
        "colab_type": "code",
        "colab": {}
      },
      "source": [
        "activation_matrix1=activation_matrix[0].reshape(activation_matrix11)\n",
        "activation_matrix2=activation_matrix[1].reshape(activation_matrix22)"
      ],
      "execution_count": 0,
      "outputs": []
    },
    {
      "cell_type": "code",
      "metadata": {
        "colab_type": "code",
        "outputId": "26340d42-f738-4550-a72a-dc82b7b9b793",
        "id": "0PuKitGsPmqe",
        "colab": {
          "base_uri": "https://localhost:8080/",
          "height": 34
        }
      },
      "source": [
        "activation_matrix.shape,activation_matrix[0].shape,activation_matrix[1].shape"
      ],
      "execution_count": 72,
      "outputs": [
        {
          "output_type": "execute_result",
          "data": {
            "text/plain": [
              "((2, 143), (143,), (143,))"
            ]
          },
          "metadata": {
            "tags": []
          },
          "execution_count": 72
        }
      ]
    },
    {
      "cell_type": "code",
      "metadata": {
        "id": "JemxI3kEIpgo",
        "colab_type": "code",
        "outputId": "c2a0ac6b-64ea-4a8d-9090-a88bd4a9bccd",
        "colab": {
          "base_uri": "https://localhost:8080/",
          "height": 292
        }
      },
      "source": [
        "activation_matrix_first=np.dot(v1,activation_matrix1.T)\n",
        "plt.matshow(activation_matrix_first,cmap='viridis_r')"
      ],
      "execution_count": 73,
      "outputs": [
        {
          "output_type": "execute_result",
          "data": {
            "text/plain": [
              "<matplotlib.image.AxesImage at 0x7f4171015c50>"
            ]
          },
          "metadata": {
            "tags": []
          },
          "execution_count": 73
        },
        {
          "output_type": "display_data",
          "data": {
            "image/png": "[encoded data removed]",
            "text/plain": [
              "<Figure size 321.75x288 with 1 Axes>"
            ]
          },
          "metadata": {
            "tags": []
          }
        }
      ]
    },
    {
      "cell_type": "code",
      "metadata": {
        "id": "IFFs5MUPNJvm",
        "colab_type": "code",
        "outputId": "9f8e95f3-500f-47fa-c6eb-3db6a1eb7010",
        "colab": {
          "base_uri": "https://localhost:8080/",
          "height": 292
        }
      },
      "source": [
        "activation_matrix_second=np.dot(v2,activation_matrix2.T)\n",
        "plt.matshow(activation_matrix_second,cmap='viridis_r')"
      ],
      "execution_count": 74,
      "outputs": [
        {
          "output_type": "execute_result",
          "data": {
            "text/plain": [
              "<matplotlib.image.AxesImage at 0x7f4170f8c4a8>"
            ]
          },
          "metadata": {
            "tags": []
          },
          "execution_count": 74
        },
        {
          "output_type": "display_data",
          "data": {
            "image/png": "[encoded data removed]",
            "text/plain": [
              "<Figure size 321.75x288 with 1 Axes>"
            ]
          },
          "metadata": {
            "tags": []
          }
        }
      ]
    }
  ]
}